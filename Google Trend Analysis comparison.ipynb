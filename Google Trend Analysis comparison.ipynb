{
  "cells":[
    {
      "cell_type":"code",
      "source":[
        "from pytrends.request import TrendReq # For Trend analysis\n",
        "import plotly.express as px # For ploting it\n",
        "\n",
        "pytrends = TrendReq(hl='en-US', tz=360) # Initialize the trend object"
      ],
      "execution_count":2,
      "outputs":[
        
      ],
      "metadata":{
        
      }
    },
    {
      "cell_type":"code",
      "source":[
        "# build payload\n",
        "\n",
        "kw_list = [\"Python\", 'Java'] # list of keywords to get data \n",
        "\n",
        "pytrends.build_payload(kw_list, cat=0, timeframe='today 12-m') # create payload"
      ],
      "execution_count":13,
      "outputs":[
        
      ],
      "metadata":{
        
      }
    },
    {
      "cell_type":"code",
      "source":[
        "#1 Interest over Time\n",
        "data = pytrends.interest_over_time() \n",
        "data = data.reset_index()\n",
        "\n",
        "\n",
        "fig = px.line(data, x=\"date\", y=kw_list, title='Keyword Web Search Interest Over Time')\n",
        "fig.show() "
      ],
      "execution_count":14,
      "outputs":[
        {
          "data":{
            "text\/plain":[
              "Unsupported"
            ]
          },
          "metadata":{
            
          },
          "output_type":"display_data"
        }
      ],
      "metadata":{
        
      }
    }
  ],
  "metadata":{
    
  },
  "nbformat":4,
  "nbformat_minor":0
}